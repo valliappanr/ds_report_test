{
  "nbformat": 4,
  "nbformat_minor": 0,
  "metadata": {
    "colab": {
      "provenance": []
    },
    "kernelspec": {
      "name": "python3",
      "display_name": "Python 3"
    },
    "language_info": {
      "name": "python"
    }
  },
  "cells": [
    {
      "cell_type": "code",
      "execution_count": null,
      "metadata": {
        "colab": {
          "base_uri": "https://localhost:8080/"
        },
        "id": "dOa0-QS3sfJE",
        "outputId": "44ef0963-ca8d-4374-f099-859f1100a9d7"
      },
      "outputs": [
        {
          "output_type": "stream",
          "name": "stdout",
          "text": [
            ">> pip install --quiet apache-beam\n",
            "\n",
            ">> pip install --quiet apache-beam[interactive]\n",
            "\n"
          ]
        }
      ],
      "source": [
        "# Run and print a shell command.\n",
        "def run(cmd):\n",
        "  print('>> {}'.format(cmd))\n",
        "  !{cmd}\n",
        "  print('')\n",
        "\n",
        "# Install apache-beam.\n",
        "run('pip install --quiet apache-beam')\n",
        "run('pip install --quiet apache-beam[interactive]')"
      ]
    },
    {
      "cell_type": "code",
      "source": [
        "import apache_beam as beam\n",
        "from apache_beam.options.pipeline_options import PipelineOptions\n",
        "import functools\n",
        "import shutil\n",
        "import glob\n",
        "import os\n",
        "import logging\n",
        "import argparse"
      ],
      "metadata": {
        "id": "kVJYu5HJsgut"
      },
      "execution_count": null,
      "outputs": []
    },
    {
      "cell_type": "code",
      "source": [
        "file_list = glob.glob(\"rebort_beam*\")\n",
        "for path in file_list:\n",
        "  os.remove(path)"
      ],
      "metadata": {
        "id": "ht5Yul9IstrU"
      },
      "execution_count": null,
      "outputs": []
    },
    {
      "cell_type": "code",
      "source": [
        "class InputRecord:\n",
        "  def __init__(self, legal_entity:str, counter_party: str, rating:int, status: str, value: int, tier: int):\n",
        "    self.legal_entity = legal_entity\n",
        "    self.counter_party = counter_party\n",
        "    self.rating = rating\n",
        "    self.status = status\n",
        "    self.value = value\n",
        "    self.tier = tier\n",
        "\n",
        "    def get_key(self):\n",
        "      return \"{}:{}:{}\".format(self.legal_entity, self.counter_party, self.tier)\n",
        "\n",
        "class OutputRecord:\n",
        "  def __init__(self, legal_entity:str, counter_party: str, rating:int, tier: int,\n",
        "               max_rating:int, sum_accr: int, sum_arap: int):\n",
        "    self.legal_entity = legal_entity\n",
        "    self.counter_party = counter_party\n",
        "    self.max_rating = max_rating\n",
        "    self.tier = tier\n",
        "    self.sum_accr = sum_accr\n",
        "    self.sum_arap = sum_arap\n",
        "    self.unique_cnt = 0\n",
        "\n",
        "    def get_key(self):\n",
        "      return \"{}:{}:{}\".format(self.legal_entity, self.counter_party, self.tier)\n",
        "\n",
        "    def update_record_with_status(self, rating, status, value):\n",
        "      self.max_rating = max(self.max_rating, rating)\n",
        "      self.unique_cnt +=1\n",
        "      if (status == 'ARAP'):\n",
        "        self.sum_arap +=value\n",
        "      elif (status == 'ACCR'):\n",
        "        self.sum_accr += value\n",
        "\n",
        "    def update_record(self, rating, sum_accr, sum_arap):\n",
        "      self.max_rating = max(self.max_rating, rating)\n",
        "      self.unique_cnt +=1\n",
        "      self.sum_arap += sum_arap\n",
        "      self.sum_accr += sum_accr\n",
        "\n",
        "\n"
      ],
      "metadata": {
        "id": "E9Sh9kEhtL9z"
      },
      "execution_count": null,
      "outputs": []
    },
    {
      "cell_type": "code",
      "source": [
        "class GetReportMetrics(beam.CombineFn):\n",
        "  def create_accumulator(self):\n",
        "    return {}\n",
        "\n",
        "  def merge_accumulators(self, accumulators):\n",
        "    merged_accumulators = self.create_accumulator()\n",
        "    for accumulator in accumulators:\n",
        "      for key, acc_record in accumulator.items():\n",
        "        if (key in merged_accumulators):\n",
        "          report_record = merged_accumulators.get(key)\n",
        "          report_record.update_record(acc_record.max_rating, acc_record.sum_accr,\n",
        "                                      acc_record.sum_arap)\n",
        "        else:\n",
        "          merged_accumulators[key] = acc_record\n",
        "    return merged_accumulators\n",
        "\n",
        "  def add_input(self, accumulator, input):\n",
        "    key = input.get_key()\n",
        "    if (key in accumulator):\n",
        "      reoirt_record = accumulator.get(key)\n",
        "      report_record.update_record_with_status(input.rating, input.status,\n",
        "                                              input.value)\n",
        "    else:\n",
        "      report_record = OutputRecord(input.legal_entity, input.counter_party,\n",
        "                                   input.tier, input.rating, 0.0)\n",
        "      accumulator[key] = report_record\n",
        "\n",
        "  def extract_output(self, acc):\n",
        "    return f'{acc.legal_entity}, {acc.counter_party}, {acc.tier}\\\n",
        "    {acc.max_rating},{acc.sum_arap},{acc.sum_accr}, {acc.unique_cnt}'"
      ],
      "metadata": {
        "id": "ScDjxlQ_uvEL"
      },
      "execution_count": null,
      "outputs": []
    },
    {
      "cell_type": "code",
      "source": [
        "def create_input_record(r, tier):\n",
        "  return InputRecord(r[1], r[2], int(r[3]), r[4], int(r[5]), int(tier))\n",
        "\n",
        "def generate_input_records(record_tuple):\n",
        "  _, record = record_tuple\n",
        "  tier = record['ds2'][0][1]\n",
        "  ds1_records = record[\"ds1\"]\n",
        "  return list(map(functools.partial(create_input_record, tier = tier), ds1_records))\n",
        "\n",
        "def split_data_to_key_value(row, delimiter, index):\n",
        "  data = row.split(delimiter)\n",
        "  return (data[index], data)\n"
      ],
      "metadata": {
        "id": "p39oPEBxyu3Y"
      },
      "execution_count": null,
      "outputs": []
    },
    {
      "cell_type": "code",
      "source": [
        "logging.getLogger().setLevel(logging.INFO)\n",
        "pipeline = beam.Pipeline()\n",
        "\n",
        "def read_data_from_file(pipeline, input_file, delimiter, index, label):\n",
        "  ds = (\n",
        "     pipeline\n",
        "     | f\"Read {label}\" >> beam.io.ReadFromText(input_file, skip_header_lines=1)\n",
        "     | f\"Split csv {label}\" >> beam.Map(split_data_to_key_value, delimiter, index)\n",
        "     | f\"log data {label}\" >> beam.LogElements()\n",
        "  )\n",
        "  return ds\n",
        "\n",
        "headers = \"legal_entity, counter_party, tier, max_rating, sum(values where status=ARAP), sum(values where status=ACCR), Total\"\n",
        "\n",
        "#ds1 = read_data_from_file(p, \"input/dataset1.csv\", \",\", 2, \"ds1\")\n",
        "#ds2 = read_data_from_file(p, \"input/dataset2.csv\", \",\", 0, \"ds2\")\n",
        "\n",
        "with pipeline as p:\n",
        "  ds1 = read_data_from_file(p, \"input/dataset1.csv\", \",\", 2, \"ds1\")\n",
        "  ds2 = read_data_from_file(p, \"input/dataset2.csv\", \",\", 0, \"ds2\")\n",
        "  report_data = (\n",
        "      {\"ds1\": ds1, \"ds2\": ds2}\n",
        "      | \"join two dataset by counter_party as separate dict\" >> beam.CoGroupByKey()\n",
        "      | \"print joined dataset\" >> beam.LogElements()\n",
        "      | \"generate input record\" >> beam.FlatMap(generate_input_records)\n",
        "      | \"create key / value of records for processing\" >> beam.Map(lambda record: (record.get_key(), record))\n",
        "      | \"Accumulate the data\" >> beam.CombinePerKey(GetReportMetrics())\n",
        "      | \"Ignore the key\" >> beam.Map(lambda key_value: key_value[1])\n",
        "      | \"print final data\" >> beam.LogElements()\n",
        "      | beam.io.Write(beam.io.WriteToText(\n",
        "          file_path_prefix=\"report_beam\", header=headers\n",
        "      ))\n",
        "  )\n",
        "\n",
        "\n",
        "p.run()"
      ],
      "metadata": {
        "id": "MzVKO-EQ53vz"
      },
      "execution_count": null,
      "outputs": []
    },
    {
      "cell_type": "code",
      "source": [],
      "metadata": {
        "id": "oWapDoGZNXcq"
      },
      "execution_count": null,
      "outputs": []
    }
  ]
}